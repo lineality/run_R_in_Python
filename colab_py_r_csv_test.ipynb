{
  "nbformat": 4,
  "nbformat_minor": 0,
  "metadata": {
    "colab": {
      "name": "colab_py_r_csv_test.ipynb",
      "provenance": [],
      "collapsed_sections": [],
      "toc_visible": true
    },
    "kernelspec": {
      "name": "python3",
      "display_name": "Python 3"
    }
  },
  "cells": [
    {
      "cell_type": "markdown",
      "metadata": {
        "id": "grtBlsCViJC2"
      },
      "source": [
        "# Example of R in Python in Colab\n",
        "\n",
        "#### ( Data files not included in Colab, see https://hanlab.uth.edu/HeRA/download )"
      ]
    },
    {
      "cell_type": "code",
      "metadata": {
        "colab": {
          "base_uri": "https://localhost:8080/"
        },
        "id": "mL9VjTF8iRw6",
        "outputId": "de15909c-f066-4d89-b0d9-2921d861f858"
      },
      "source": [
        "# show files\n",
        "!ls"
      ],
      "execution_count": 6,
      "outputs": [
        {
          "output_type": "stream",
          "text": [
            "'Fallopian_tube (1).csv'   sample_data\t       Testis-Target.rds\n",
            "'Fallopian_tube (1).rds'   Testis-Target.csv\n"
          ],
          "name": "stdout"
        }
      ]
    },
    {
      "cell_type": "code",
      "metadata": {
        "colab": {
          "base_uri": "https://localhost:8080/"
        },
        "id": "eQ1ExjI0erk_",
        "outputId": "96f29491-fb6f-4b9c-9652-a0469be087cb"
      },
      "source": [
        "# Mix Python and R to convert files to .csv\n",
        "\n",
        "\"\"\"\n",
        "Instructions to use:\n",
        "    1. open a terminal in the folder where your .rds files are\n",
        "    2. Run this line in terminal:\n",
        "       $ python3 py_r_csv.py\n",
        "\"\"\"\n",
        "\n",
        "\"\"\"\n",
        "(User) Problem\n",
        "We Have: many big .rds files (which can only be opened in R)\n",
        "We Need: .csv files\n",
        "We Must: Use python\n",
        "\n",
        "Solution (Product)\n",
        "The strategy is to use python to make and then call R scripts.\n",
        "\n",
        "Use R to convert .rds R database files to .csv files,\n",
        "in a why that is overall inside a python script\n",
        "that can be called inside a directory and \n",
        "will then convert all applicable files inside that directory.\n",
        "\n",
        "e.g. Let's convert the .rds files found here:\n",
        "    https://hanlab.uth.edu/HeRA/download\n",
        "\n",
        "There are only 2 lines of code to be run in R (converting .rds to .csv):\n",
        "    df <- readRDS(\"{doc_name}.rds\")\n",
        "    write.csv(df, \"{doc_name}.csv\")\n",
        "\n",
        "The challenge is to automate this.\n",
        "The automation and file management is easier in Python.\n",
        "(And in some cases the required code-stack is python, not R.)\n",
        "\n",
        "What we need is the ability to call an R script inside Python:\n",
        "We can do this with these one line (not including the import line):\n",
        "\n",
        "    import subprocess\n",
        "    return_code = subprocess.call(['/usr/bin/Rscript','convert.r'])\n",
        "\n",
        "    or\n",
        "    return_code = subprocess.call([ where R is on your computer , the r script])\n",
        "\n",
        "(Note: \"return_code = \" may not be required, it just tell you \n",
        "whither the R script returned something or not: 0 means no, etc.)\n",
        "\"\"\"\n",
        "\n",
        "\n",
        "import os\n",
        "import subprocess\n",
        "\n",
        "# a function to write the temporary R script\n",
        "def write_script(doc_name):\n",
        "\n",
        "    # create file: readme_text\n",
        "    readme_text = f'df <- readRDS(\"{doc_name}.rds\")\\nwrite.csv(df, \"{doc_name}.csv\")'\n",
        "\n",
        "    # create, write-to, & save .txt file\n",
        "    file_to_create1 = open(\"convert.r\", \"w\")\n",
        "    file_to_create1.write(readme_text)\n",
        "    file_to_create1.close()\n",
        "\n",
        "    return None\n",
        "\n",
        "\n",
        "# in the case of a long wait, give the user some idea\n",
        "# of the progress through the files (crude but works)\n",
        "progress_counter = 0\n",
        "print(\"progress Counter:\")\n",
        "\n",
        "\n",
        "# iterate through all .rds files in directory\n",
        "the_path = \".\"\n",
        "for filename in os.listdir(the_path):\n",
        "\n",
        "    # check that each file is really an .rds file\n",
        "    if filename[-4:] == \".rds\":\n",
        "\n",
        "    # save the file name minus the .suffix\n",
        "        doc_name = filename[:-4]\n",
        "\n",
        "        # write the R script\n",
        "        write_script(doc_name)\n",
        "\n",
        "        # Run the R script:\n",
        "        # (which converts the .rds to .csv!)\n",
        "        # Note: requires import subprocess\n",
        "        subprocess.call(['/usr/bin/Rscript','convert.r'])\n",
        "\n",
        "    # Show Progress:\n",
        "    progress_counter += 1\n",
        "    print(progress_counter)\n",
        "\n",
        "\n",
        "# Clean Up Trash\n",
        "# remove the last R script\n",
        "os.remove(\"convert.r\")\n",
        "\n",
        "# Yay!!\n",
        "print(\"All Done!!\")\n"
      ],
      "execution_count": 1,
      "outputs": [
        {
          "output_type": "stream",
          "text": [
            "progress Counter:\n",
            "1\n",
            "2\n",
            "3\n",
            "4\n",
            "All Done!!\n"
          ],
          "name": "stdout"
        }
      ]
    },
    {
      "cell_type": "code",
      "metadata": {
        "colab": {
          "base_uri": "https://localhost:8080/"
        },
        "id": "A3YIt5vhfLPG",
        "outputId": "06ddedf8-8ae5-4cc4-ab61-517ac5a3a527"
      },
      "source": [
        "# Show files\n",
        "!ls\n"
      ],
      "execution_count": 2,
      "outputs": [
        {
          "output_type": "stream",
          "text": [
            "'Fallopian_tube (1).csv'   sample_data\t       Testis-Target.rds\n",
            "'Fallopian_tube (1).rds'   Testis-Target.csv\n"
          ],
          "name": "stdout"
        }
      ]
    },
    {
      "cell_type": "markdown",
      "metadata": {
        "id": "x-bRL0mdiicV"
      },
      "source": [
        "# Check the resulting .csv"
      ]
    },
    {
      "cell_type": "code",
      "metadata": {
        "id": "3mmKoFDcgigY"
      },
      "source": [
        "import pandas as pd"
      ],
      "execution_count": 4,
      "outputs": []
    },
    {
      "cell_type": "code",
      "metadata": {
        "colab": {
          "base_uri": "https://localhost:8080/",
          "height": 326
        },
        "id": "PVvkQ0tcglWj",
        "outputId": "0d6a214c-edeb-4f7a-8935-84f0a2f9d7e6"
      },
      "source": [
        "# read in file\n",
        "df = pd.read_csv(\"Testis-Target.csv\")\n",
        "# show just top 5 rows\n",
        "df.head()"
      ],
      "execution_count": 5,
      "outputs": [
        {
          "output_type": "execute_result",
          "data": {
            "text/html": [
              "<div>\n",
              "<style scoped>\n",
              "    .dataframe tbody tr th:only-of-type {\n",
              "        vertical-align: middle;\n",
              "    }\n",
              "\n",
              "    .dataframe tbody tr th {\n",
              "        vertical-align: top;\n",
              "    }\n",
              "\n",
              "    .dataframe thead th {\n",
              "        text-align: right;\n",
              "    }\n",
              "</style>\n",
              "<table border=\"1\" class=\"dataframe\">\n",
              "  <thead>\n",
              "    <tr style=\"text-align: right;\">\n",
              "      <th></th>\n",
              "      <th>Unnamed: 0</th>\n",
              "      <th>Symbol</th>\n",
              "      <th>eRNA</th>\n",
              "      <th>R</th>\n",
              "      <th>P</th>\n",
              "      <th>FDR</th>\n",
              "      <th>N</th>\n",
              "      <th>echr</th>\n",
              "      <th>estart</th>\n",
              "      <th>eend</th>\n",
              "      <th>gchr</th>\n",
              "      <th>gstart</th>\n",
              "      <th>gend</th>\n",
              "      <th>tss</th>\n",
              "      <th>dis</th>\n",
              "    </tr>\n",
              "  </thead>\n",
              "  <tbody>\n",
              "    <tr>\n",
              "      <th>0</th>\n",
              "      <td>54370</td>\n",
              "      <td>TAS1R3</td>\n",
              "      <td>ENSR00000000145</td>\n",
              "      <td>0.328111</td>\n",
              "      <td>5.778029e-06</td>\n",
              "      <td>3.273730e-05</td>\n",
              "      <td>183</td>\n",
              "      <td>chr1</td>\n",
              "      <td>1086450</td>\n",
              "      <td>1092451</td>\n",
              "      <td>chr1</td>\n",
              "      <td>1266660</td>\n",
              "      <td>1270694</td>\n",
              "      <td>1266660</td>\n",
              "      <td>177210.0</td>\n",
              "    </tr>\n",
              "    <tr>\n",
              "      <th>1</th>\n",
              "      <td>108552</td>\n",
              "      <td>AL627309.1</td>\n",
              "      <td>ENSR00000000146</td>\n",
              "      <td>0.536818</td>\n",
              "      <td>4.884981e-15</td>\n",
              "      <td>1.233228e-13</td>\n",
              "      <td>183</td>\n",
              "      <td>chr1</td>\n",
              "      <td>1090087</td>\n",
              "      <td>1096088</td>\n",
              "      <td>chr1</td>\n",
              "      <td>92230</td>\n",
              "      <td>129217</td>\n",
              "      <td>129217</td>\n",
              "      <td>963870.0</td>\n",
              "    </tr>\n",
              "    <tr>\n",
              "      <th>2</th>\n",
              "      <td>108560</td>\n",
              "      <td>RP4-669L17.8</td>\n",
              "      <td>ENSR00000000146</td>\n",
              "      <td>0.543113</td>\n",
              "      <td>1.998401e-15</td>\n",
              "      <td>5.387148e-14</td>\n",
              "      <td>183</td>\n",
              "      <td>chr1</td>\n",
              "      <td>1090087</td>\n",
              "      <td>1096088</td>\n",
              "      <td>chr1</td>\n",
              "      <td>326096</td>\n",
              "      <td>328112</td>\n",
              "      <td>326096</td>\n",
              "      <td>766991.0</td>\n",
              "    </tr>\n",
              "    <tr>\n",
              "      <th>3</th>\n",
              "      <td>108592</td>\n",
              "      <td>AL669831.1</td>\n",
              "      <td>ENSR00000000146</td>\n",
              "      <td>0.330486</td>\n",
              "      <td>4.897052e-06</td>\n",
              "      <td>2.810120e-05</td>\n",
              "      <td>183</td>\n",
              "      <td>chr1</td>\n",
              "      <td>1090087</td>\n",
              "      <td>1096088</td>\n",
              "      <td>chr1</td>\n",
              "      <td>661265</td>\n",
              "      <td>714006</td>\n",
              "      <td>714006</td>\n",
              "      <td>379081.0</td>\n",
              "    </tr>\n",
              "    <tr>\n",
              "      <th>4</th>\n",
              "      <td>108594</td>\n",
              "      <td>FAM87B</td>\n",
              "      <td>ENSR00000000146</td>\n",
              "      <td>0.401077</td>\n",
              "      <td>1.838805e-08</td>\n",
              "      <td>1.591011e-07</td>\n",
              "      <td>183</td>\n",
              "      <td>chr1</td>\n",
              "      <td>1090087</td>\n",
              "      <td>1096088</td>\n",
              "      <td>chr1</td>\n",
              "      <td>752751</td>\n",
              "      <td>755217</td>\n",
              "      <td>752751</td>\n",
              "      <td>340336.0</td>\n",
              "    </tr>\n",
              "  </tbody>\n",
              "</table>\n",
              "</div>"
            ],
            "text/plain": [
              "   Unnamed: 0        Symbol             eRNA  ...     gend      tss       dis\n",
              "0       54370        TAS1R3  ENSR00000000145  ...  1270694  1266660  177210.0\n",
              "1      108552    AL627309.1  ENSR00000000146  ...   129217   129217  963870.0\n",
              "2      108560  RP4-669L17.8  ENSR00000000146  ...   328112   326096  766991.0\n",
              "3      108592    AL669831.1  ENSR00000000146  ...   714006   714006  379081.0\n",
              "4      108594        FAM87B  ENSR00000000146  ...   755217   752751  340336.0\n",
              "\n",
              "[5 rows x 15 columns]"
            ]
          },
          "metadata": {
            "tags": []
          },
          "execution_count": 5
        }
      ]
    }
  ]
}